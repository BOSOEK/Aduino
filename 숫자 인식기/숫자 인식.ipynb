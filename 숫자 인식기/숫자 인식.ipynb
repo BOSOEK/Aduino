{
 "cells": [
  {
   "cell_type": "code",
   "execution_count": 3,
   "id": "8e3fbb96-affb-4f30-a926-d6e668ae4716",
   "metadata": {},
   "outputs": [],
   "source": [
    "import pandas as pd\n",
    "import tensorflow as tf\n",
    "import matplotlib.pyplot as plt"
   ]
  },
  {
   "cell_type": "code",
   "execution_count": 4,
   "id": "4058d548-4c7e-41b9-aa73-4b4d90d8f6e1",
   "metadata": {},
   "outputs": [],
   "source": [
    "test_set = pd.read_csv('./test.csv')\n",
    "train_set = pd.read_csv('./train.csv')"
   ]
  },
  {
   "cell_type": "code",
   "execution_count": null,
   "id": "e0a832ce-a457-469f-a7ce-1b41be8ac9f7",
   "metadata": {},
   "outputs": [],
   "source": []
  }
 ],
 "metadata": {
  "kernelspec": {
   "display_name": "Python 3",
   "language": "python",
   "name": "python3"
  },
  "language_info": {
   "codemirror_mode": {
    "name": "ipython",
    "version": 3
   },
   "file_extension": ".py",
   "mimetype": "text/x-python",
   "name": "python",
   "nbconvert_exporter": "python",
   "pygments_lexer": "ipython3",
   "version": "3.8.8"
  }
 },
 "nbformat": 4,
 "nbformat_minor": 5
}
